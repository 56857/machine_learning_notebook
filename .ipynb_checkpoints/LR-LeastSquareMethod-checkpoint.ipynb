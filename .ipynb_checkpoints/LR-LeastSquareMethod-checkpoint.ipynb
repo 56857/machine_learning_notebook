{
 "cells": [
  {
   "cell_type": "markdown",
   "metadata": {},
   "source": [
    "# 线性回归 之 最小二乘法 "
   ]
  },
  {
   "cell_type": "code",
   "execution_count": 5,
   "metadata": {},
   "outputs": [],
   "source": [
    "import numpy as np\n",
    "import pandas as pd"
   ]
  },
  {
   "cell_type": "markdown",
   "metadata": {},
   "source": [
    "波士顿放假数据集字段书名\n",
    "* CRIM 房屋所在镇犯罪率\n",
    "* ZN 面积大于25000平方英尺住宅所占比例\n",
    "* INDUS 房屋所在镇非零售区所占比例\n",
    "* CHASS 房屋是否是位于河边的，河边为1，否则为0\n",
    "* NOX 一氧化氮浓度\n",
    "* RM 平均房间数量\n",
    "* AGE 1940年前建成房屋所占的比例\n",
    "* DIS 房屋距离波士顿五大就业中心的加权距离\n",
    "* RAD 距离房屋最近的公路\n",
    "* TAX 税收额度\n",
    "* PTRATIO 房屋所在镇师生比例\n",
    "* BLACK 计算公式： 1000*(房屋所在镇非美籍人口所在比例 - 0.63)**2\n",
    "* LSTAT 弱势群体人口所占比例\n",
    "* MEDV 房间平均价格"
   ]
  },
  {
   "cell_type": "code",
   "execution_count": 24,
   "metadata": {},
   "outputs": [
    {
     "name": "stdout",
     "output_type": "stream",
     "text": [
      "<class 'pandas.core.frame.DataFrame'>\n",
      "RangeIndex: 506 entries, 0 to 505\n",
      "Data columns (total 15 columns):\n",
      "Unnamed: 0    506 non-null int64\n",
      "crim          506 non-null float64\n",
      "zn            506 non-null float64\n",
      "indus         506 non-null float64\n",
      "chas          506 non-null int64\n",
      "nox           506 non-null float64\n",
      "rm            506 non-null float64\n",
      "age           506 non-null float64\n",
      "dis           506 non-null float64\n",
      "rad           506 non-null int64\n",
      "tax           506 non-null int64\n",
      "ptratio       506 non-null float64\n",
      "black         506 non-null float64\n",
      "lstat         506 non-null float64\n",
      "medv          506 non-null float64\n",
      "dtypes: float64(11), int64(4)\n",
      "memory usage: 59.4 KB\n"
     ]
    }
   ],
   "source": [
    "data = pd.read_csv(r\"dataset/boston.csv\")\n",
    "# display(data)\n",
    "data.info() # 可用来查看数据有没缺失值"
   ]
  },
  {
   "cell_type": "code",
   "execution_count": 39,
   "metadata": {},
   "outputs": [],
   "source": [
    "class LinearRegression:\n",
    "    '''最下二乘法实现'''\n",
    "    def fit(self, X, y):\n",
    "        # 类数组类型，形如 [样本数量，特征数量]，特征矩阵\n",
    "        X = np.asmatrix(X) \n",
    "        # 类数组类型，形如 [样本数量]\n",
    "        y = np.asmatrix(y) \n",
    "        # 由于y是一维格式，而矩阵是二位格式，这里需要将y转为二维  \n",
    "        # reshape(行数量, 列数量)。(-1,1)表示转换为n行1列\n",
    "        y = y.reshape(-1, 1) \n",
    "        self.w_ = (X.T * X).I * X.T * y # 最小二乘法公式\n",
    "    def predict(self, X):\n",
    "        '''根据参数传递的样本X对数据进行预测\n",
    "        Parameters\n",
    "        -----\n",
    "        X: 类数组类型：形状：[样本数量, 特征数量]\n",
    "        \n",
    "        Return 预测结果\n",
    "        '''\n",
    "        X = np.asmatrix(X.copy()) # 拷贝X并转为矩阵。为什么要copy呢？要求为数组对象的完整对象，不能是一部分\n",
    "        result = X * self.w_ # fit中对w已经计算好，这里直接乘以X即可\n",
    "        return np.array(result).ravel() # 转为数组，并将数组扁平化，转为一维\n",
    "    "
   ]
  },
  {
   "cell_type": "code",
   "execution_count": 49,
   "metadata": {},
   "outputs": [
    {
     "data": {
      "text/plain": [
       "16.89257506996268"
      ]
     },
     "metadata": {},
     "output_type": "display_data"
    },
    {
     "data": {
      "text/plain": [
       "matrix([[-2.25548227e-03],\n",
       "        [-9.36187378e-02],\n",
       "        [ 4.57218914e-02],\n",
       "        [ 3.67703558e-03],\n",
       "        [ 2.43746753e+00],\n",
       "        [-2.96521997e+00],\n",
       "        [ 5.61875896e+00],\n",
       "        [-4.94763610e-03],\n",
       "        [-8.73950002e-01],\n",
       "        [ 2.49282064e-01],\n",
       "        [-1.14626177e-02],\n",
       "        [-2.50045098e-01],\n",
       "        [ 1.49996195e-02],\n",
       "        [-4.56440342e-01]])"
      ]
     },
     "metadata": {},
     "output_type": "display_data"
    }
   ],
   "source": [
    "t = data.sample(len(data),random_state=0)\n",
    "train_X = t.iloc[:400, :-1]\n",
    "train_y = t.iloc[:400, -1]\n",
    "test_X = t.iloc[400:, :-1]\n",
    "test_y = t.iloc[400:, -1]\n",
    "lr = LinearRegression()\n",
    "lr.fit(train_X, train_y)\n",
    "result = lr.predict(test_X)\n",
    "display(np.mean((result - test_y)**2)) # 求MSE\n",
    "display(lr.w_) # 查看训练好的权重"
   ]
  },
  {
   "cell_type": "code",
   "execution_count": null,
   "metadata": {},
   "outputs": [],
   "source": []
  },
  {
   "cell_type": "code",
   "execution_count": null,
   "metadata": {},
   "outputs": [],
   "source": []
  }
 ],
 "metadata": {
  "kernelspec": {
   "display_name": "Python 3",
   "language": "python",
   "name": "python3"
  },
  "language_info": {
   "codemirror_mode": {
    "name": "ipython",
    "version": 3
   },
   "file_extension": ".py",
   "mimetype": "text/x-python",
   "name": "python",
   "nbconvert_exporter": "python",
   "pygments_lexer": "ipython3",
   "version": "3.7.4"
  }
 },
 "nbformat": 4,
 "nbformat_minor": 2
}
