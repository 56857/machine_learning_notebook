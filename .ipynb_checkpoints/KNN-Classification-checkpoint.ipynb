{
 "cells": [
  {
   "cell_type": "code",
   "execution_count": 1,
   "metadata": {},
   "outputs": [],
   "source": [
    "import numpy as np\n",
    "import pandas as pd"
   ]
  },
  {
   "cell_type": "code",
   "execution_count": 55,
   "metadata": {},
   "outputs": [
    {
     "name": "stdout",
     "output_type": "stream",
     "text": [
      "     sepallength  sepalwidth  petallength  petalwidth            class\n",
      "82           5.8         2.7          3.9         1.2  Iris-versicolor\n",
      "113          5.7         2.5          5.0         2.0   Iris-virginica\n",
      "53           5.5         2.3          4.0         1.3  Iris-versicolor\n",
      "62           6.0         2.2          4.0         1.0  Iris-versicolor\n",
      "43           5.0         3.5          1.6         0.6      Iris-setosa\n",
      "72           6.3         2.5          4.9         1.5  Iris-versicolor\n",
      "2            4.7         3.2          1.3         0.2      Iris-setosa\n",
      "99           5.7         2.8          4.1         1.3  Iris-versicolor\n",
      "148          6.2         3.4          5.4         2.3   Iris-virginica\n",
      "20           5.4         3.4          1.7         0.2      Iris-setosa\n",
      "150\n",
      "147\n"
     ]
    },
    {
     "data": {
      "text/plain": [
       "0    50\n",
       "2    49\n",
       "1    48\n",
       "Name: class, dtype: int64"
      ]
     },
     "execution_count": 55,
     "metadata": {},
     "output_type": "execute_result"
    }
   ],
   "source": [
    "data = pd.read_csv(r\"dataset/iris.arff.csv\", header=0)\n",
    "# data.head(10)\n",
    "# data.tail(10)\n",
    "print(data.sample(10))\n",
    "data[\"class\"] = data[\"class\"].map({\"Iris-versicolor\":0,\"Iris-setosa\":1,\"Iris-virginica\":2}) # 类别名称映射为数字\n",
    "# data = data.drop(\"Id\",axis=1)  # 删除列\n",
    "print(len(data))\n",
    "if data.duplicated().any(): # 重复值\n",
    "    data.drop_duplicates(inplace=True) #删除重复值\n",
    "    print(len(data))\n",
    "data[\"class\"].value_counts()  # 查看各个类别的鸢尾花记录\n"
   ]
  },
  {
   "cell_type": "code",
   "execution_count": 45,
   "metadata": {},
   "outputs": [],
   "source": [
    "class KNN:\n",
    "    '''使用KNN实现K近邻算法实现分类'''\n",
    "    def __init__(self, k):\n",
    "        '''初始化\n",
    "        \n",
    "        Parameters\n",
    "        -----\n",
    "        k:int\n",
    "            邻居个位数\n",
    "        \n",
    "        '''\n",
    "        self.k = k\n",
    "    def fit(self, X, y):\n",
    "        '''训练\n",
    "        \n",
    "        Parameeters\n",
    "        -----\n",
    "        X: 类数组类型，可以是List也可以是Ndarray，形状为： [样本数量,特征数量]\n",
    "        y: ；类数组类型，形状为：[样本数量]\n",
    "        \n",
    "        '''\n",
    "        self.X = np.asarray(X) #转换为ndarray类型\n",
    "        self.y = np.asarray(y)\n",
    "    def predict(self, X):\n",
    "        '''对样本进行预测\n",
    "        Parameters:\n",
    "        X: 类数组类型，可以是List也可以是Ndarray，形状为： [样本数量,特征数量]\n",
    "        Returns:\n",
    "        数组类型，预测结果\n",
    "        '''\n",
    "        X = np.asarray(X)\n",
    "        result = []\n",
    "        for x in X:\n",
    "            dis = np.sqrt(np.sum((x-self.X)**2, axis=1)) # 对于测试机的每隔一个样本，一次与训练集的所有数据求欧氏距离\n",
    "            index = dis.argsort()# 返回排序结果的下标\n",
    "            index = index[:self.k] # 截取前K个\n",
    "            count = np.bincount(self.y[index]) # 返回数组中每个整数元素出现次数，元素必须是非负整数\n",
    "            result.append(count.argmax()) # 返回ndarray中值最大的元素所对应的索引，就是出现次数最多的索引，也就是我们判定的类别\n",
    "        return np.asarray(result)"
   ]
  },
  {
   "cell_type": "code",
   "execution_count": 46,
   "metadata": {},
   "outputs": [],
   "source": [
    "# 提取每个类中鸢尾花数据\n",
    "t0 = data[data[\"class\"]==0]\n",
    "t1 = data[data[\"class\"]==1]\n",
    "t2 = data[data[\"class\"]==2]\n",
    "# 打乱# 打乱每个类别数据\n",
    "t0 = t0.sample(len(t0), random_state=0)\n",
    "t1 = t1.sample(len(t1), random_state=0)\n",
    "t2 = t2.sample(len(t2), random_state=0)\n",
    "# 分配训练集和数据集，axis=0表示按纵向方式拼接\n",
    "train_X = pd.concat([t0.iloc[:40, :-1], t1.iloc[:40, :-1], t2.iloc[:40, :-1]], axis=0)\n",
    "train_y = pd.concat([t0.iloc[:40, -1], t1.iloc[:40, -1], t2.iloc[:40, -1]], axis=0)\n",
    "test_X = pd.concat([t0.iloc[40:, :-1], t1.iloc[40:, :-1], t2.iloc[40:, :-1]], axis=0)\n",
    "test_y = pd.concat([t0.iloc[40:, -1], t1.iloc[40:, -1], t2.iloc[40:, -1]], axis=0)"
   ]
  },
  {
   "cell_type": "code",
   "execution_count": 52,
   "metadata": {},
   "outputs": [
    {
     "data": {
      "text/plain": [
       "0.9629629629629629"
      ]
     },
     "metadata": {},
     "output_type": "display_data"
    }
   ],
   "source": [
    "knn = KNN(k=3)\n",
    "knn.fit(X=train_X, y=train_y)\n",
    "result = knn.predict(test_X)\n",
    "# display(result)\n",
    "# display(test_y)\n",
    "display(np.sum(result==test_y)/len(result))\n"
   ]
  },
  {
   "cell_type": "code",
   "execution_count": 70,
   "metadata": {},
   "outputs": [
    {
     "data": {
      "image/png": "[encoded data removed]",
      "text/plain": [
       "<Figure size 1440x720 with 1 Axes>"
      ]
     },
     "metadata": {
      "needs_background": "light"
     },
     "output_type": "display_data"
    }
   ],
   "source": [
    "# \"Iris-versicolor\":0,\"Iris-setosa\":1,\"Iris-virginica\":2\n",
    "import matplotlib as mpl\n",
    "import matplotlib.pyplot as plt\n",
    "plt.figure(figsize=(20,10))\n",
    "mpl.rcParams[\"font.family\"] = 'SimHei' # 默认mpl不支持中文，设置一下支持 \n",
    "mpl.rcParams[\"axes.unicode_minus\"] = False # 设置中文字体是可以正常显示负号\n",
    "plt.scatter(x=t0[\"sepallength\"][:40], y=t0[\"petallength\"][:40], color='r', label=\"Iris-versicolor\")\n",
    "plt.scatter(x=t1[\"sepallength\"][:40], y=t1[\"petallength\"][:40], color='g', label=\"Iris-setosa\")\n",
    "plt.scatter(x=t2[\"sepallength\"][:40], y=t2[\"petallength\"][:40], color='b', label=\"Iris-virginica\")\n",
    "right = test_X[result == result]\n",
    "wrong = test_X[result != result]\n",
    "plt.scatter(x=right[\"sepallength\"], y=right[\"petallength\"], color='c', label=\"right\", marker=\"x\")\n",
    "plt.scatter(x=wrong[\"sepallength\"], y=wrong[\"petallength\"], color='m', label=\"wrong\", marker=\">\")\n",
    "plt.xlabel('花萼长度')\n",
    "plt.ylabel('花瓣长度')\n",
    "plt.title('KNN分类结果')\n",
    "plt.legend(loc='best')\n",
    "plt.show()"
   ]
  },
  {
   "cell_type": "code",
   "execution_count": null,
   "metadata": {},
   "outputs": [],
   "source": [
    "\n"
   ]
  }
 ],
 "metadata": {
  "kernelspec": {
   "display_name": "Python 3",
   "language": "python",
   "name": "python3"
  },
  "language_info": {
   "codemirror_mode": {
    "name": "ipython",
    "version": 3
   },
   "file_extension": ".py",
   "mimetype": "text/x-python",
   "name": "python",
   "nbconvert_exporter": "python",
   "pygments_lexer": "ipython3",
   "version": "3.7.4"
  }
 },
 "nbformat": 4,
 "nbformat_minor": 2
}
